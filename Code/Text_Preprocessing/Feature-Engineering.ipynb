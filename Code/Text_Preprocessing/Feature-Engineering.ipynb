{
 "cells": [
  {
   "cell_type": "code",
   "execution_count": 1,
   "metadata": {},
   "outputs": [],
   "source": [
    "import pickle\n",
    "import re\n",
    "import nltk\n",
    "import pandas as pd\n",
    "import numpy as np\n",
    "from nltk.corpus import stopwords\n",
    "from nltk.stem import WordNetLemmatizer\n",
    "from sklearn.feature_extraction.text import TfidfVectorizer\n",
    "from sklearn.model_selection import train_test_split\n",
    "from sklearn.feature_selection import chi2"
   ]
  },
  {
   "cell_type": "code",
   "execution_count": 7,
   "metadata": {},
   "outputs": [],
   "source": [
    "#df_path = \"/Users/mac/Desktop/MetagenomicToolsClassifier/Abstracts/Abstracts.csv\"\n",
    "df_path = \"/Users/kaoutar/Desktop/MetagenomicToolsClassifier/Abstracts+Methods.csv\"\n",
    "\n",
    "df = pd.read_csv(df_path, sep=';')"
   ]
  },
  {
   "cell_type": "code",
   "execution_count": 8,
   "metadata": {},
   "outputs": [
    {
     "data": {
      "text/plain": [
       "'RAPSearch: a fast protein similarity search tool for short reads\\nNext Generation Sequencing (NGS) is producing enormous corpuses of short DNA reads, affecting emerging fields like metagenomics. Protein similarity search--a key step to achieve annotation of protein-coding genes in these short reads, and identification of their biological functions--faces daunting challenges because of the very sizes of the short read datasets. We developed a fast protein similarity search tool RAPSearch that utilizes a reduced amino acid alphabet and suffix array to detect seeds of flexible length. For short reads (translated in 6 frames) we tested, RAPSearch achieved ~20-90 times speedup as compared to BLASTX. RAPSearch missed only a small fraction (~1.3-3.2%) of BLASTX similarity hits, but it also discovered additional homologous proteins (~0.3-2.1%) that BLASTX missed. By contrast, BLAT, a tool that is even slightly faster than RAPSearch, had significant loss of sensitivity as compared to RAPSearch and BLAST. It enables faster protein similarity search. The application of RAPSearch in metageomics has also been demonstrated.\\nRAPSearch adopts the seed-extension approach of BLAST, which identifies the seeds, the maximal exact matches (MEMs) between the reduced alphabet sequence of a query protein and the reduced alphabet sequence of all proteins in the database, followed by extending and evaluating each of these seeds. RAPSearch employs a linear time algorithm to retrieve the MEMs, which first builds a suffix array and a corresponding longest common prefix (LCP) array to index all proteins in the database [20], and then traverses the suffix array based on each query protein. All identified MEMs are subject to a heuristic extension algorithm including an ungapped extension and then gapped extension, similar to BLAST. Protein sequence seeds using a reduced amino acid alphabet The first reduced amino acid alphabet was introduced by Dill in the hydrophobic-polar (HP) model for the study of the folding of globular proteins [21]. Since then, there are more than 50 reduced alphabets of different size that have been proposed for various purposes [22]. A recent study even demonstrated that reduced alphabet is more sensitive and selective in identifying remote homologous proteins [22]. These observations suggested that homologous proteins exhibit a higher sequence identity on the reduced alphabet than that on the 20-aa alphabet, indicating that it is possible to design efficient and sensitive seeds based on a reduced amino acid alphabet. To select an appropriate reduced amino acid alphabet for RAPSearch, we carried out the following experiments. Using the BaliBase database [23]http://www-bio3d-igbmc.u-strasbg.fr/balibase/, we collected 10,000 pairs of distant homologous proteins that share ~20-40% sequence identify, and 10,000 pairs of proteins from different families (which serve as non-homologous proteins). For each alphabet and each length, we computed the coverage and efficiency of the corresponding seeds: the coverage is defined as the fraction of homolog proteins containing at least one seed match, and the efficiency is defined as the log ratio of the numbers of homologous and non-homologous proteins containing at least one seed match. Seed identification by using suffix array An essential procedure in RAPSearch (and other seed-extension tools like BLAST, which uses hash table instead of suffix array) is how to choose appropriate seeds for extension (which is more time consuming than finding the seed itself). A commonly used strategy is to define a cutoff for the minimum seed size--a small cutoff may result in a huge amount of seeds to be extended (thus slow down the similarity search), whereas a large cutoff may miss some seeds that otherwise may lead to significant alignments. BLAST uses minimum size of 3 (residues for proteins) but also requires that there are two seeds in the same diagonal that span no more than a certain length. RAPSearch will extend all single seeds that have been identified by looking up in the suffix array of target protein sequences. As RAPSearch uses reduced alphabets to present proteins, RAPSearch can use longer seed cutoff, thus achieving faster similarity search. Minimal seed selection algorithm RAPSearch generates seeds of a minimal length of 6-9 amino acids, with longer seeds for frequent words and shorter seeds for rare words. RAPSearch decides the minimum length of seeds starting at a particular query position based on the frequency of the 6-mers starting at that position. Once the minimum length of the seeds is selected for a particular position, all the seeds of at least the required length will be retrieved by looking up in the pre-computed suffix array of protein similarity search database. The minimum seed length selection algorithm is shown as follows (for a given position i in a query sequence). Seed length selection algorithm (position i): minseed ← 6 addlen ← 0 hexmerF ← the frequency of the 6-mer starting at position i medianF ← the median of the frequencies of all 6-mers in the protein database expectF ← hexmerF if (expectF > medianF): # aaComp(k) is the frequency of the corresponding amino acid at position k while expectF * aaComp(i + addlen + 1) < medianF: addlen ← addlen + 1 expectF ← expectF * aaComp(i + addlen + 1) minseed ← minseed + addlen return minseed Seeds with mismatches We further consider seeds with mismatches (these mismatches that can not be handled by reduced alphabets). Long seeds (at least 10 aa) that allow at most one mismatch either at position 3, 4, 5, or 6 as in the following patterns, OOOXOOOOOO, OOOOOOXOOO, OOOOXOOOOO and OOOOOXOOOO (where X indicates a mismatch, and Os indicate exact matches). We replace the residue at each of the positions allowing mismatches (marked with X) by one of the reduced amino acids in the reduced alphabet in turn to search for exact matches, achieving identification of seeds with mismatches using suffix array. Ungapped and gapped alignment We implemented ungapped and gapped extension procedures following the same approach used in BLAST [2]. Statistical significance evaluation We used the statistical evaluation method from BLAST, and used the same model and parameters (for BLOSUM62 substitution matrix) as BLAST to evaluate the significance of the resulting local alignment. Protein similarity search databases and other datasets We tested RAPSearch on several public metagenomic datasets with various read lengths [7, 24]. The nucleotide sequences were downloaded from the NCBI short read archive, and the MG-RAST server http://metagenomics.nmpdr.org/. The protein similarity search databases we used include a 98% non-redundant dataset (prepared by using CD-HIT [25]) of protein sequences from prokaryotic genomes, plasmid and viral genomes, collected in the IMG 3.0 http://img.jgi.doe.gov, eggNOG database (of sequences that have COG annotations) (downloaded from http://eggnog.embl.de/), and NCBI non-redundant (nr) database (downloaded from NCBI ftp site). The complete genomes (Escherichia coli K12 substr MG1655, NC_000913; Salmonella typhi, NC_003198; and Desulfococcus oleovorans Hxd3, NC_009943) and their gene annotations we used for the simulation study were downloaded from the NCBI ftp site. Other computational tools RAPSearch was compared to BLAST, BLAT and HMMER. The BLAT source codes were downloaded from http://hgwdev.cse.ucsc.edu/~kent/src/blatSrc34.zip. The default filtering option in BLAST automatically masks low complexity regions of amino acids by using the SEG approach [26] prior to similarity search. The SEG masking is also implemented in RAPSearch. For comparison purpose, SEG was also applied to the six frame translations of the short reads for (protein) BLAT similarity search.'"
      ]
     },
     "execution_count": 8,
     "metadata": {},
     "output_type": "execute_result"
    }
   ],
   "source": [
    "df['Content'][1]"
   ]
  },
  {
   "cell_type": "markdown",
   "metadata": {},
   "source": [
    "# Preprocessing"
   ]
  },
  {
   "cell_type": "code",
   "execution_count": 9,
   "metadata": {},
   "outputs": [
    {
     "name": "stdout",
     "output_type": "stream",
     "text": [
      "------------------------------------------------------------\n"
     ]
    },
    {
     "name": "stderr",
     "output_type": "stream",
     "text": [
      "[nltk_data] Downloading package wordnet to /Users/kaoutar/nltk_data...\n",
      "[nltk_data]   Unzipping corpora/wordnet.zip.\n",
      "[nltk_data] Downloading package stopwords to\n",
      "[nltk_data]     /Users/kaoutar/nltk_data...\n",
      "[nltk_data]   Unzipping corpora/stopwords.zip.\n"
     ]
    }
   ],
   "source": [
    "# Lowercasing the text\n",
    "df['Content_Parsed_1'] = df['Content'].str.lower()\n",
    "\n",
    "# removing links\n",
    "regex_link = r\"\\bhttp[s]?://(?:[a-zA-Z]|[0-9]|[$-_@.&+]|[!*\\(\\),]|(?:%[0-9a-fA-F][0-9a-fA-F]))+\\b\"\n",
    "df['Content_Parsed_2'] = df['Content_Parsed_1'].str.replace(regex_link, \"\")\n",
    "\n",
    "# removing numbers\n",
    "regex_nums = r\"\\b[0-9][0-9]*\\b\"\n",
    "df['Content_Parsed_2'] = df['Content_Parsed_2'].str.replace(regex_nums, \"\")\n",
    "\n",
    "# removing special characters\n",
    "special_character = list(\"←=()[]/‘’|><\\\\∼+%$&×–−-·\")\n",
    "for spec_char in special_character:\n",
    "    df['Content_Parsed_2'] = df['Content_Parsed_2'].str.replace(spec_char, '')\n",
    "\n",
    "\n",
    "# removing punctuation\n",
    "punctuation_signs = list(\"?:!.,;\")\n",
    "for punct_sign in punctuation_signs:\n",
    "    df['Content_Parsed_2'] = df['Content_Parsed_2'].str.replace(punct_sign, '') \n",
    "    \n",
    "# removing strings with length 1-2\n",
    "regex_short = r\"\\b\\w{0,2}\\b\"\n",
    "df['Content_Parsed_2'] = df['Content_Parsed_2'].str.replace(regex_short, \"\")    \n",
    "\n",
    "# removing strings starting with numbers\n",
    "regex_short = r\"\\b[0-9][0-9]*\\w\\b\"\n",
    "df['Content_Parsed_2'] = df['Content_Parsed_2'].str.replace(regex_short, \"\")\n",
    "\n",
    "\n",
    "# Lemmatization\n",
    "# Downloading punkt and wordnet from NLTK\n",
    "# nltk.download('punkt')\n",
    "print(\"------------------------------------------------------------\")\n",
    "nltk.download('wordnet')\n",
    "# Saving the lemmatizer into an object\n",
    "wordnet_lemmatizer = WordNetLemmatizer()\n",
    "# Iterating through every word to lemmatize\n",
    "nrows = len(df)\n",
    "lemmatized_text_list = []\n",
    "for row in range(0, nrows):\n",
    "    \n",
    "    # Create an empty list containing lemmatized words\n",
    "    lemmatized_list = []\n",
    "    \n",
    "    # Save the text and its words into an object\n",
    "    text = df.loc[row]['Content_Parsed_2']\n",
    "    text_words = text.split(\" \")\n",
    "\n",
    "    # Iterate through every word to lemmatize\n",
    "    for word in text_words:\n",
    "        lemmatized_list.append(wordnet_lemmatizer.lemmatize(word, pos=\"v\"))\n",
    "        \n",
    "    # Join the list\n",
    "    lemmatized_text = \" \".join(lemmatized_list)\n",
    "    \n",
    "    # Append to the list containing the texts\n",
    "    lemmatized_text_list.append(lemmatized_text)\n",
    "df['Content_Parsed_3'] = lemmatized_text_list\n",
    "\n",
    "# removing possessive pronoun terminations\n",
    "df['Content_Parsed_3'] = df['Content_Parsed_3'].str.replace(\"'s\", \"\")\n",
    "\n",
    "# removing english stop words\n",
    "# Downloading the stop words list\n",
    "nltk.download('stopwords')\n",
    "# Loading the stop words in english\n",
    "stop_words = list(stopwords.words('english'))\n",
    "# looping through all stop words\n",
    "for stop_word in stop_words:\n",
    "    regex_stopword = r\"\\b\" + stop_word + r\"\\b\"\n",
    "    df['Content_Parsed_3'] = df['Content_Parsed_3'].str.replace(regex_stopword, '')\n"
   ]
  },
  {
   "cell_type": "code",
   "execution_count": 12,
   "metadata": {},
   "outputs": [],
   "source": [
    "list_columns = [\"File_Name\", \"Content\",\"Category\", \"Content_Parsed_3\"]\n",
    "df = df[list_columns]\n",
    "df = df.rename(columns={'Content_Parsed_3': 'Content_Parsed'})"
   ]
  },
  {
   "cell_type": "code",
   "execution_count": 13,
   "metadata": {},
   "outputs": [],
   "source": [
    "category_codes = {\n",
    "    'Alignment': 0,\n",
    "    'Classification': 1,\n",
    "    'VirusDetection': 2,\n",
    "    'VirusIdentification': 3,\n",
    "    'Mapping': 4,\n",
    "    'Assembly': 5,\n",
    "    'AbundanceEstimation': 6,\n",
    "    'Trimming': 7,\n",
    "    'QualityControl': 8,\n",
    "    'Annotation' : 9,\n",
    "    'SNPDiscovery' : 10,\n",
    "    'Visualization' : 11,\n",
    "    'AssemblyEvaluation' : 12\n",
    "}\n",
    "\n",
    "# Category mapping\n",
    "df['Category_Code'] = df['Category']\n",
    "df = df.replace({'Category_Code':category_codes})"
   ]
  },
  {
   "cell_type": "code",
   "execution_count": 14,
   "metadata": {},
   "outputs": [
    {
     "data": {
      "text/plain": [
       "'rapsearch  fast protein similarity search tool  short reads\\nnext generation sequence ngs  produce enormous corpuses  short dna read affect emerge field like metagenomics protein similarity searcha key step  achieve annotation  proteincoding genes   short read  identification   biological functionsfaces daunt challenge     size   short read datasets  develop  fast protein similarity search tool rapsearch  utilize  reduce amino acid alphabet  suffix array  detect seed  flexible length  short read translate   frame  test rapsearch achieve ~ time speedup  compare  blastx rapsearch miss   small fraction ~  blastx similarity hit   also discover additional homologous proteins ~  blastx miss  contrast blat  tool   even slightly faster  rapsearch  significant loss  sensitivity  compare  rapsearch  blast  enable faster protein similarity search  application  rapsearch  metageomics  also  demonstrated\\nrapsearch adopt  seedextension approach  blast  identify  seed  maximal exact match mems   reduce alphabet sequence   query protein   reduce alphabet sequence   proteins   database follow  extend  evaluate    seed rapsearch employ  linear time algorithm  retrieve  mems  first build  suffix array   correspond longest common prefix lcp array  index  proteins   database    traverse  suffix array base   query protein  identify mems  subject   heuristic extension algorithm include  ungapped extension   gap extension similar  blast protein sequence seed use  reduce amino acid alphabet  first reduce amino acid alphabet  introduce  dill   hydrophobicpolar  model   study   fold  globular proteins  since       reduce alphabets  different size    propose  various purpose   recent study even demonstrate  reduce alphabet   sensitive  selective  identify remote homologous proteins   observations suggest  homologous proteins exhibit  higher sequence identity   reduce alphabet      alphabet indicate    possible  design efficient  sensitive seed base   reduce amino acid alphabet  select  appropriate reduce amino acid alphabet  rapsearch  carry   follow experiment use  balibase database   collect  pair  distant homologous proteins  share ~ sequence identify   pair  proteins  different families  serve  nonhomologous proteins   alphabet   length  compute  coverage  efficiency   correspond seed  coverage  define   fraction  homolog proteins contain  least one seed match   efficiency  define   log ratio   number  homologous  nonhomologous proteins contain  least one seed match seed identification  use suffix array  essential procedure  rapsearch   seedextension tool like blast  use hash table instead  suffix array    choose appropriate seed  extension    time consume  find  seed   commonly use strategy   define  cutoff   minimum seed sizea small cutoff may result   huge amount  seed   extend thus slow   similarity search whereas  large cutoff may miss  seed  otherwise may lead  significant alignments blast use minimum size   residues  proteins  also require    two seed    diagonal  span     certain length rapsearch  extend  single seed    identify  look    suffix array  target protein sequence  rapsearch use reduce alphabets  present proteins rapsearch  use longer seed cutoff thus achieve faster similarity search minimal seed selection algorithm rapsearch generate seed   minimal length   amino acids  longer seed  frequent word  shorter seed  rare word rapsearch decide  minimum length  seed start   particular query position base   frequency   mers start   position   minimum length   seed  select   particular position   seed   least  require length   retrieve  look    precomputed suffix array  protein similarity search database  minimum seed length selection algorithm  show  follow   give position    query sequence seed length selection algorithm position  minseed   addlen   hexmerf   frequency   mer start  position  medianf   median   frequencies   mers   protein database expectf  hexmerf  expectf  medianf # aacompk   frequency   correspond amino acid  position   expectf * aacompi  addlen    medianf addlen  addlen   expectf  expectf * aacompi  addlen   minseed  minseed  addlen return minseed seed  mismatch   consider seed  mismatch  mismatch     handle  reduce alphabets long seed  least    allow   one mismatch either  position         follow pattern oooxoooooo ooooooxooo ooooxooooo  oooooxoooo   indicate  mismatch   indicate exact match  replace  residue     position allow mismatch mark    one   reduce amino acids   reduce alphabet  turn  search  exact match achieve identification  seed  mismatch use suffix array ungapped  gap alignment  implement ungapped  gap extension procedures follow   approach use  blast  statistical significance evaluation  use  statistical evaluation method  blast  use   model  parameters  blosum62 substitution matrix  blast  evaluate  significance   result local alignment protein similarity search databases   datasets  test rapsearch  several public metagenomic datasets  various read lengths    nucleotide sequence  download   ncbi short read archive   mgrast server   protein similarity search databases  use include   nonredundant dataset prepare  use cdhit   protein sequence  prokaryotic genomes plasmid  viral genomes collect   img   eggnog database  sequence   cog annotations download    ncbi nonredundant  database download  ncbi ftp site  complete genomes escherichia coli k12 substr mg1655 nc_000913 salmonella typhi nc_003198  desulfococcus oleovorans hxd3 nc_009943   gene annotations  use   simulation study  download   ncbi ftp site  computational tool rapsearch  compare  blast blat  hmmer  blat source cod  download  ~kentsrcblatsrc34zip  default filter option  blast automatically mask low complexity regions  amino acids  use  seg approach  prior  similarity search  seg mask  also implement  rapsearch  comparison purpose seg  also apply   six frame translations   short read  protein blat similarity search'"
      ]
     },
     "execution_count": 14,
     "metadata": {},
     "output_type": "execute_result"
    }
   ],
   "source": [
    "df['Content_Parsed'][1]"
   ]
  },
  {
   "cell_type": "code",
   "execution_count": 16,
   "metadata": {},
   "outputs": [],
   "source": [
    "list_columns = [\"File_Name\", \"Content_Parsed\", \"Category_Code\"]\n",
    "df1 = df[list_columns]"
   ]
  },
  {
   "cell_type": "code",
   "execution_count": 17,
   "metadata": {},
   "outputs": [
    {
     "data": {
      "text/html": [
       "<div>\n",
       "<style scoped>\n",
       "    .dataframe tbody tr th:only-of-type {\n",
       "        vertical-align: middle;\n",
       "    }\n",
       "\n",
       "    .dataframe tbody tr th {\n",
       "        vertical-align: top;\n",
       "    }\n",
       "\n",
       "    .dataframe thead th {\n",
       "        text-align: right;\n",
       "    }\n",
       "</style>\n",
       "<table border=\"1\" class=\"dataframe\">\n",
       "  <thead>\n",
       "    <tr style=\"text-align: right;\">\n",
       "      <th></th>\n",
       "      <th>File_Name</th>\n",
       "      <th>Content_Parsed</th>\n",
       "      <th>Category_Code</th>\n",
       "    </tr>\n",
       "  </thead>\n",
       "  <tbody>\n",
       "    <tr>\n",
       "      <th>192</th>\n",
       "      <td>SNPServer</td>\n",
       "      <td>snpserver  realtime snp discovery tool\\nsnpser...</td>\n",
       "      <td>10</td>\n",
       "    </tr>\n",
       "    <tr>\n",
       "      <th>151</th>\n",
       "      <td>GRAMMy</td>\n",
       "      <td>accurate genome relative abundance estimation ...</td>\n",
       "      <td>6</td>\n",
       "    </tr>\n",
       "    <tr>\n",
       "      <th>178</th>\n",
       "      <td>FastQ Screen</td>\n",
       "      <td>fastq screen  tool  multigenome map  quality c...</td>\n",
       "      <td>8</td>\n",
       "    </tr>\n",
       "    <tr>\n",
       "      <th>67</th>\n",
       "      <td>VirSorter</td>\n",
       "      <td>virsorter mine viral signal  microbial genomic...</td>\n",
       "      <td>3</td>\n",
       "    </tr>\n",
       "    <tr>\n",
       "      <th>103</th>\n",
       "      <td>ALLPATHS</td>\n",
       "      <td>allpaths  novo assembly  wholegenome shotgun m...</td>\n",
       "      <td>5</td>\n",
       "    </tr>\n",
       "  </tbody>\n",
       "</table>\n",
       "</div>"
      ],
      "text/plain": [
       "        File_Name                                     Content_Parsed  \\\n",
       "192     SNPServer  snpserver  realtime snp discovery tool\\nsnpser...   \n",
       "151        GRAMMy  accurate genome relative abundance estimation ...   \n",
       "178  FastQ Screen  fastq screen  tool  multigenome map  quality c...   \n",
       "67      VirSorter  virsorter mine viral signal  microbial genomic...   \n",
       "103      ALLPATHS  allpaths  novo assembly  wholegenome shotgun m...   \n",
       "\n",
       "     Category_Code  \n",
       "192             10  \n",
       "151              6  \n",
       "178              8  \n",
       "67               3  \n",
       "103              5  "
      ]
     },
     "execution_count": 17,
     "metadata": {},
     "output_type": "execute_result"
    }
   ],
   "source": [
    "df1.sample(5)"
   ]
  },
  {
   "cell_type": "code",
   "execution_count": 19,
   "metadata": {},
   "outputs": [],
   "source": [
    "# df\n",
    "with open('/Users/kaoutar/Desktop/MetagenomicToolsClassifier/FE-dfAM.pickle', 'wb') as output:\n",
    "    pickle.dump(df, output) "
   ]
  }
 ],
 "metadata": {
  "kernelspec": {
   "display_name": "Python 3",
   "language": "python",
   "name": "python3"
  },
  "language_info": {
   "codemirror_mode": {
    "name": "ipython",
    "version": 3
   },
   "file_extension": ".py",
   "mimetype": "text/x-python",
   "name": "python",
   "nbconvert_exporter": "python",
   "pygments_lexer": "ipython3",
   "version": "3.8.5"
  }
 },
 "nbformat": 4,
 "nbformat_minor": 4
}
