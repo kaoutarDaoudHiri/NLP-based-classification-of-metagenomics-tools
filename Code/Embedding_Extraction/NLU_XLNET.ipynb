{
 "cells": [
  {
   "cell_type": "markdown",
   "metadata": {
    "id": "WFRwrn2iLQZz"
   },
   "source": [
    "\n",
    "\n",
    "# 1. Install Java and NLU\n"
   ]
  },
  {
   "cell_type": "code",
   "execution_count": null,
   "metadata": {
    "id": "M2-GiYL6xurJ"
   },
   "outputs": [],
   "source": [
    "import os\n",
    "import pandas as pd\n",
    "import numpy as np\n",
    "\n",
    "! apt-get update -qq > /dev/null   \n",
    "# Install jav\n",
    "! apt-get install -y openjdk-8-jdk-headless -qq > /dev/null\n",
    "os.environ[\"JAVA_HOME\"] = \"/usr/lib/jvm/java-8-openjdk-amd64\"\n",
    "os.environ[\"PATH\"] = os.environ[\"JAVA_HOME\"] + \"/bin:\" + os.environ[\"PATH\"]\n",
    "! pip install nlu pyspark==3.3 > /dev/null\n"
   ]
  },
  {
   "cell_type": "code",
   "execution_count": null,
   "metadata": {
    "colab": {
     "base_uri": "https://localhost:8080/"
    },
    "id": "j2ZZZvr1uGpx",
    "outputId": "1782fdce-aba6-4f2f-e357-a8d6590a6afb"
   },
   "outputs": [],
   "source": [
    "import nlu\n",
    "pipe = nlu.load('xlnet ')"
   ]
  },
  {
   "cell_type": "markdown",
   "metadata": {
    "id": "fHrNMdixEji7"
   },
   "source": [
    "# 2. Load data"
   ]
  },
  {
   "cell_type": "code",
   "execution_count": null,
   "metadata": {
    "colab": {
     "base_uri": "https://localhost:8080/",
     "height": 309
    },
    "id": "D34jkEWpEuE3",
    "outputId": "8f014caa-52f4-481e-d526-491ae9727f83"
   },
   "outputs": [],
   "source": [
    "from google.colab import files\n",
    "df=pd.read_csv(\"./Abstracts-kwlg-Parsed.csv\", sep=',')\n",
    "#df=pd.read_csv(\"./Methods-Parsed.csv\", sep=',')\n",
    "df=df.rename(columns={'Content_Parsed': 'text'})"
   ]
  },
  {
   "cell_type": "code",
   "execution_count": null,
   "metadata": {
    "id": "O3wFkukXpfQv"
   },
   "outputs": [],
   "source": [
    "import re\n",
    "import unicodedata\n",
    "for i in range (len(df['text'])):\n",
    "  df['text'][i] = unicodedata.normalize('NFKD', df['text'][i]).encode('ascii', 'ignore').decode(\"utf-8\")\n",
    "  df['text'][i] = re.sub(r'[^\\w]', ' ', df['text'][i])\n"
   ]
  },
  {
   "cell_type": "markdown",
   "metadata": {
    "id": "N_CL8HZ8Ydry"
   },
   "source": [
    "#  3. Load Model and Embed sample string"
   ]
  },
  {
   "cell_type": "code",
   "execution_count": null,
   "metadata": {
    "colab": {
     "base_uri": "https://localhost:8080/"
    },
    "id": "g7cMwe5pBUXl",
    "outputId": "07aa3f2b-2376-4f23-9c02-e4ed6323d24b"
   },
   "outputs": [
    {
     "name": "stdout",
     "output_type": "stream",
     "text": [
      "*****************item  0\n",
      "*****************item  1\n",
      "*****************item  2\n",
      "*****************item  3\n",
      "*****************item  4\n",
      "*****************item  5\n",
      "*****************item  6\n",
      "*****************item  7\n",
      "*****************item  8\n",
      "*****************item  9\n",
      "*****************item  10\n",
      "*****************item  11\n",
      "*****************item  12\n",
      "*****************item  13\n",
      "*****************item  14\n",
      "*****************item  15\n",
      "*****************item  16\n",
      "*****************item  17\n",
      "*****************item  18\n",
      "*****************item  19\n",
      "*****************item  20\n",
      "*****************item  21\n",
      "*****************item  22\n",
      "*****************item  23\n",
      "*****************item  24\n",
      "*****************item  25\n",
      "*****************item  26\n",
      "*****************item  27\n",
      "*****************item  28\n",
      "*****************item  29\n",
      "*****************item  30\n",
      "*****************item  31\n",
      "*****************item  32\n",
      "*****************item  33\n",
      "*****************item  34\n",
      "*****************item  35\n",
      "*****************item  36\n",
      "*****************item  37\n",
      "*****************item  38\n",
      "*****************item  39\n",
      "*****************item  40\n",
      "*****************item  41\n",
      "*****************item  42\n",
      "*****************item  43\n",
      "*****************item  44\n",
      "*****************item  45\n",
      "*****************item  46\n",
      "*****************item  47\n",
      "*****************item  48\n",
      "*****************item  49\n",
      "*****************item  50\n",
      "*****************item  51\n",
      "*****************item  52\n",
      "*****************item  53\n",
      "*****************item  54\n",
      "*****************item  55\n",
      "*****************item  56\n",
      "*****************item  57\n",
      "*****************item  58\n",
      "*****************item  59\n",
      "*****************item  60\n",
      "*****************item  61\n",
      "*****************item  62\n",
      "*****************item  63\n",
      "*****************item  64\n",
      "*****************item  65\n",
      "*****************item  66\n",
      "*****************item  67\n",
      "*****************item  68\n",
      "*****************item  69\n",
      "*****************item  70\n",
      "*****************item  71\n",
      "*****************item  72\n",
      "*****************item  73\n",
      "*****************item  74\n",
      "*****************item  75\n",
      "*****************item  76\n",
      "*****************item  77\n",
      "*****************item  78\n",
      "*****************item  79\n",
      "*****************item  80\n",
      "*****************item  81\n",
      "*****************item  82\n",
      "*****************item  83\n",
      "*****************item  84\n",
      "*****************item  85\n",
      "*****************item  86\n",
      "*****************item  87\n",
      "*****************item  88\n",
      "*****************item  89\n",
      "*****************item  90\n",
      "*****************item  91\n",
      "*****************item  92\n",
      "*****************item  93\n",
      "*****************item  94\n",
      "*****************item  95\n",
      "*****************item  96\n",
      "*****************item  97\n",
      "*****************item  98\n",
      "*****************item  99\n",
      "*****************item  100\n",
      "*****************item  101\n",
      "*****************item  102\n",
      "*****************item  103\n",
      "*****************item  104\n",
      "*****************item  105\n",
      "*****************item  106\n",
      "*****************item  107\n",
      "*****************item  108\n",
      "*****************item  109\n",
      "*****************item  110\n",
      "*****************item  111\n",
      "*****************item  112\n",
      "*****************item  113\n",
      "*****************item  114\n",
      "*****************item  115\n",
      "*****************item  116\n",
      "*****************item  117\n",
      "*****************item  118\n",
      "*****************item  119\n",
      "*****************item  120\n",
      "*****************item  121\n",
      "*****************item  122\n",
      "*****************item  123\n",
      "*****************item  124\n",
      "*****************item  125\n",
      "*****************item  126\n",
      "*****************item  127\n",
      "*****************item  128\n",
      "*****************item  129\n",
      "*****************item  130\n",
      "*****************item  131\n",
      "*****************item  132\n",
      "*****************item  133\n",
      "*****************item  134\n",
      "*****************item  135\n",
      "*****************item  136\n",
      "*****************item  137\n",
      "*****************item  138\n",
      "*****************item  139\n",
      "*****************item  140\n",
      "*****************item  141\n",
      "*****************item  142\n",
      "*****************item  143\n",
      "*****************item  144\n",
      "*****************item  145\n",
      "*****************item  146\n",
      "*****************item  147\n",
      "*****************item  148\n",
      "*****************item  149\n",
      "*****************item  150\n",
      "*****************item  151\n",
      "*****************item  152\n",
      "*****************item  153\n",
      "*****************item  154\n",
      "*****************item  155\n",
      "*****************item  156\n",
      "*****************item  157\n",
      "*****************item  158\n",
      "*****************item  159\n",
      "*****************item  160\n",
      "*****************item  161\n",
      "*****************item  162\n",
      "*****************item  163\n",
      "*****************item  164\n",
      "*****************item  165\n",
      "*****************item  166\n",
      "*****************item  167\n",
      "*****************item  168\n",
      "*****************item  169\n",
      "*****************item  170\n",
      "*****************item  171\n",
      "*****************item  172\n",
      "*****************item  173\n",
      "*****************item  174\n",
      "*****************item  175\n",
      "*****************item  176\n",
      "*****************item  177\n",
      "*****************item  178\n",
      "*****************item  179\n",
      "*****************item  180\n",
      "*****************item  181\n",
      "*****************item  182\n",
      "*****************item  183\n",
      "*****************item  184\n",
      "*****************item  185\n",
      "*****************item  186\n",
      "*****************item  187\n",
      "*****************item  188\n",
      "*****************item  189\n",
      "*****************item  190\n",
      "*****************item  191\n",
      "*****************item  192\n",
      "*****************item  193\n",
      "*****************item  194\n",
      "*****************item  195\n",
      "*****************item  196\n",
      "*****************item  197\n",
      "*****************item  198\n",
      "*****************item  199\n",
      "*****************item  200\n",
      "*****************item  201\n",
      "*****************item  202\n",
      "*****************item  203\n",
      "*****************item  204\n",
      "*****************item  205\n",
      "*****************item  206\n",
      "*****************item  207\n",
      "*****************item  208\n",
      "*****************item  209\n",
      "*****************item  210\n",
      "*****************item  211\n",
      "*****************item  212\n",
      "*****************item  213\n",
      "*****************item  214\n",
      "*****************item  215\n",
      "*****************item  216\n",
      "*****************item  217\n",
      "*****************item  218\n",
      "*****************item  219\n",
      "*****************item  220\n",
      "*****************item  221\n",
      "*****************item  222\n",
      "*****************item  223\n"
     ]
    }
   ],
   "source": [
    "import numpy as np\n",
    "embeddings = []\n",
    "all_embeddings = []\n",
    "sentence_embedding = np.empty(768, dtype=object)\n",
    "c=0\n",
    "\n",
    "for txt in df['text']:\n",
    "  print(\"*****************item \",c)\n",
    "  embedding = pipe.predict([txt])\n",
    "  #embedding = embedding.reset_index(drop=True)\n",
    "  flatkeys=[element for sublist in embedding['token'].tolist() for element in sublist]\n",
    "  flatvalues=[element for sublist in embedding['word_embedding_xlnet'].tolist() for element in sublist]\n",
    "  embedding = dict(zip(flatkeys, flatvalues))\n",
    "  embeddings.append(embedding)\n",
    "  c=c+1\n",
    "\n",
    "\n",
    "for l in range(len(embeddings)):\n",
    "  for v in embeddings[l].values():\n",
    "    sentence_embedding=np.vstack((sentence_embedding, v))\n",
    "  sentence_embedding = np.delete(sentence_embedding, obj=0, axis=0)\n",
    "  sentence_embedding = (np.mean(sentence_embedding, axis=0)).tolist()\n",
    "  all_embeddings.append(sentence_embedding)\n",
    "\n",
    "all_embeddings = np.array(all_embeddings)\n",
    "all_embeddings = pd.DataFrame(all_embeddings)\n",
    "\n",
    "all_embeddings.insert(loc=0, column='text', value=df['text'])"
   ]
  },
  {
   "cell_type": "code",
   "execution_count": null,
   "metadata": {
    "colab": {
     "base_uri": "https://localhost:8080/",
     "height": 276
    },
    "id": "mNJ8tqMpEF_g",
    "outputId": "11e45196-03ff-429a-fee2-2c108e25b09e"
   },
   "outputs": [],
   "source": [
    "all_embeddings.to_csv('Abstracts-kwlg-XLNET.csv') \n",
    "files.download(\"Abstracts-kwlg-XLNET.csv\")"
   ]
  }
 ],
 "metadata": {
  "colab": {
   "collapsed_sections": [],
   "name": "NLU_XLNET.ipynb",
   "provenance": []
  },
  "kernelspec": {
   "display_name": "Python 3",
   "language": "python",
   "name": "python3"
  },
  "language_info": {
   "codemirror_mode": {
    "name": "ipython",
    "version": 3
   },
   "file_extension": ".py",
   "mimetype": "text/x-python",
   "name": "python",
   "nbconvert_exporter": "python",
   "pygments_lexer": "ipython3",
   "version": "3.8.5"
  }
 },
 "nbformat": 4,
 "nbformat_minor": 1
}
